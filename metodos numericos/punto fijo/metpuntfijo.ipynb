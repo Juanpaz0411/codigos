{
 "cells": [
  {
   "cell_type": "code",
   "execution_count": 39,
   "metadata": {},
   "outputs": [
    {
     "name": "stdout",
     "output_type": "stream",
     "text": [
      "El método no convergió en el número máximo de iteraciones\n"
     ]
    }
   ],
   "source": [
    "from sympy import symbols, E, ln\n",
    "\n",
    "def punto_fijo(funcion, funcion_iteracion, x_inicial, tolerancia, max_iteraciones):\n",
    "    x = x_inicial\n",
    "    iteraciones = 0\n",
    "    \n",
    "    while iteraciones < max_iteraciones:\n",
    "        x_nuevo = funcion_iteracion(x)\n",
    "        error = abs(x_nuevo - x)\n",
    "        \n",
    "        if error < tolerancia:\n",
    "            return x_nuevo, iteraciones\n",
    "        \n",
    "        x = x_nuevo\n",
    "        iteraciones += 1\n",
    "    \n",
    "    return None, iteraciones\n",
    "\n",
    "# Definir el símbolo variable\n",
    "x = symbols('x')\n",
    "\n",
    "# Definir la función original y la función de iteración\n",
    "funcion = E**(-x) - ln(x)\n",
    "funcion_iteracion = lambda x: E**(-x)\n",
    "\n",
    "x_inicial = 1.5  # Valor inicial\n",
    "tolerancia = 1e-6\n",
    "max_iteraciones = 15\n",
    "\n",
    "solucion, iteraciones_realizadas = punto_fijo(funcion, funcion_iteracion, x_inicial, tolerancia, max_iteraciones)\n",
    "\n",
    "if solucion is not None:\n",
    "    print(f\"La solución aproximada es: {solucion}\")\n",
    "    print(f\"Se realizaron {iteraciones_realizadas} iteraciones\")\n",
    "else:\n",
    "    print(\"El método no convergió en el número máximo de iteraciones\")\n"
   ]
  }
 ],
 "metadata": {
  "kernelspec": {
   "display_name": "base",
   "language": "python",
   "name": "python3"
  },
  "language_info": {
   "codemirror_mode": {
    "name": "ipython",
    "version": 3
   },
   "file_extension": ".py",
   "mimetype": "text/x-python",
   "name": "python",
   "nbconvert_exporter": "python",
   "pygments_lexer": "ipython3",
   "version": "3.10.9"
  },
  "orig_nbformat": 4
 },
 "nbformat": 4,
 "nbformat_minor": 2
}
