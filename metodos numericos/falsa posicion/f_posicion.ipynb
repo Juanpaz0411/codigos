{
 "cells": [
  {
   "cell_type": "code",
   "execution_count": 1,
   "metadata": {},
   "outputs": [
    {
     "name": "stdout",
     "output_type": "stream",
     "text": [
      "El método no convergió en el número máximo de iteraciones\n"
     ]
    }
   ],
   "source": [
    "from sympy import symbols, E, ln\n",
    "from tabulate import tabulate\n",
    "\n",
    "def falsa_posicion(funcion, a, b, tolerancia, max_iteraciones):\n",
    "    iteraciones = 0\n",
    "    \n",
    "    # Inicializar una lista para almacenar los resultados de cada iteración\n",
    "    resultados = []\n",
    "    \n",
    "    while iteraciones < max_iteraciones:\n",
    "        fa = funcion.subs('x', a)\n",
    "        fb = funcion.subs('x', b)\n",
    "        \n",
    "        x_r = (a * fb - b * fa) / (fb - fa)\n",
    "        fx_r = funcion.subs('x', x_r)\n",
    "        \n",
    "        error_relativo = abs((x_r - a) / x_r)\n",
    "        \n",
    "        # Agregar los valores a la lista de resultados\n",
    "        resultados.append([a, b, x_r, fx_r, error_relativo])\n",
    "        \n",
    "        if error_relativo < tolerancia:\n",
    "            return x_r, iteraciones + 1, resultados\n",
    "        \n",
    "        if fa * fx_r < 0:\n",
    "            b = x_r\n",
    "        else:\n",
    "            a = x_r\n",
    "        \n",
    "        iteraciones += 1\n",
    "    \n",
    "    return None, max_iteraciones, resultados\n",
    "\n",
    "# Definir el símbolo variable\n",
    "x = symbols('x')\n",
    "\n",
    "# Definir la función original\n",
    "funcion = E**(-x) - ln(x)\n",
    "\n",
    "a = 1.0  # Valor inicial de a\n",
    "b = 2.0  # Valor inicial de b\n",
    "tolerancia = 1e-6\n",
    "max_iteraciones = 15\n",
    "\n",
    "solucion, iteraciones_realizadas, resultados = falsa_posicion(funcion, a, b, tolerancia, max_iteraciones)\n",
    "\n",
    "if solucion is not None:\n",
    "    print(f\"La solución aproximada es: {solucion}\")\n",
    "    print(f\"Se realizaron {iteraciones_realizadas} iteraciones\")\n",
    "    \n",
    "    # Imprimir los resultados en forma de matriz con alineación a la derecha\n",
    "    encabezados = [\"a\", \"b\", \"x_r\", \"f(x_r)\", \"Error Relativo\"]\n",
    "    tabla = tabulate(resultados, headers=encabezados, tablefmt=\"fancy_grid\", numalign=\"right\")\n",
    "    print(tabla)\n",
    "else:\n",
    "    print(\"El método no convergió en el número máximo de iteraciones\")\n"
   ]
  }
 ],
 "metadata": {
  "kernelspec": {
   "display_name": "base",
   "language": "python",
   "name": "python3"
  },
  "language_info": {
   "codemirror_mode": {
    "name": "ipython",
    "version": 3
   },
   "file_extension": ".py",
   "mimetype": "text/x-python",
   "name": "python",
   "nbconvert_exporter": "python",
   "pygments_lexer": "ipython3",
   "version": "3.10.9"
  },
  "orig_nbformat": 4
 },
 "nbformat": 4,
 "nbformat_minor": 2
}
